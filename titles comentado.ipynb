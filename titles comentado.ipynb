{
  "cells": [
    {
      "cell_type": "markdown",
      "metadata": {
        "id": "view-in-github",
        "colab_type": "text"
      },
      "source": [
        "<a href=\"https://colab.research.google.com/github/ReyesSanti/Entrega-Final/blob/main/titles%20comentado.ipynb\" target=\"_parent\"><img src=\"https://colab.research.google.com/assets/colab-badge.svg\" alt=\"Open In Colab\"/></a>"
      ]
    },
    {
      "cell_type": "code",
      "execution_count": 3,
      "metadata": {
        "id": "099b5940-2bdd-46e9-b359-37e1e2e1480f"
      },
      "outputs": [],
      "source": [
        "import numpy as np\n",
        "import pandas as pd\n",
        "from pandas_profiling import ProfileReport"
      ],
      "id": "099b5940-2bdd-46e9-b359-37e1e2e1480f"
    },
    {
      "cell_type": "markdown",
      "source": [
        "La primera linea es una librería que proporciona funciones matemáticas avanzadas, la segunda linea es una librería que proporciona estructuras de datos y herramientas para manipular y analizar datos y por ultimo la tercer linea es una librería que permite crear perfiles de datos de forma fácil."
      ],
      "metadata": {
        "id": "YeLRyOqw9LRR"
      },
      "id": "YeLRyOqw9LRR"
    },
    {
      "cell_type": "code",
      "execution_count": 4,
      "metadata": {
        "id": "fac18fe4-0758-4af2-b82f-b8c062edf9ac"
      },
      "outputs": [],
      "source": [
        "data = pd.read_csv(\"data.csv\")"
      ],
      "id": "fac18fe4-0758-4af2-b82f-b8c062edf9ac"
    },
    {
      "cell_type": "markdown",
      "source": [
        "En esta parte es donde se carga los datos de un archivo CSV en un objeto de Pandas DataFrame."
      ],
      "metadata": {
        "id": "s27xEKVa9zOL"
      },
      "id": "s27xEKVa9zOL"
    },
    {
      "cell_type": "code",
      "execution_count": 5,
      "metadata": {
        "id": "4699e18f-9495-445c-9046-f4b1dc4eee61"
      },
      "outputs": [],
      "source": [
        "profile = ProfileReport(data, title=\"Profiling Report\")"
      ],
      "id": "4699e18f-9495-445c-9046-f4b1dc4eee61"
    },
    {
      "cell_type": "markdown",
      "source": [
        "Esta parte crea un objeto de reporte de perfil utilizando la librería panda"
      ],
      "metadata": {
        "id": "9JvyDGI3-Eu-"
      },
      "id": "9JvyDGI3-Eu-"
    },
    {
      "cell_type": "code",
      "execution_count": null,
      "metadata": {
        "id": "dc146a9b-7284-4f2a-954a-a3b4516b6e59"
      },
      "outputs": [],
      "source": [
        "profile"
      ],
      "id": "dc146a9b-7284-4f2a-954a-a3b4516b6e59"
    },
    {
      "cell_type": "markdown",
      "source": [
        "aqui es donde muestra la información detallada sobre el archivo cargado, incluyendo estadísticas descriptivas, distribuciones, valores faltantes, correlaciones en un formato html."
      ],
      "metadata": {
        "id": "zYHSnTPs-1eV"
      },
      "id": "zYHSnTPs-1eV"
    },
    {
      "cell_type": "code",
      "execution_count": null,
      "metadata": {
        "id": "a28fb1e8-a178-4958-9282-5a8564afd340"
      },
      "outputs": [],
      "source": [
        "import numpy as np\n",
        "import pandas as pd\n",
        "\n",
        "import requests\n",
        "from bs4 import BeautifulSoup\n",
        "\n",
        "from PIL import Image\n",
        "from wordcloud import WordCloud, ImageColorGenerator\n",
        "import matplotlib.pyplot as plt\n",
        "\n",
        "import string\n",
        "import nltk\n",
        "from nltk.corpus import stopwords"
      ],
      "id": "a28fb1e8-a178-4958-9282-5a8564afd340"
    },
    {
      "cell_type": "markdown",
      "source": [
        "aqui se importan varias librerias en los cuales se usan para el analisis te texto, datos y tambien para el procesamiento de imagenes como son los graficos."
      ],
      "metadata": {
        "id": "newn7XLZ_Y5J"
      },
      "id": "newn7XLZ_Y5J"
    },
    {
      "cell_type": "code",
      "execution_count": null,
      "metadata": {
        "colab": {
          "base_uri": "https://localhost:8080/"
        },
        "id": "206acfa5-2dc0-4a77-bd8f-70ebe0fbac82",
        "outputId": "7ba350ee-547f-4986-f23e-7578d15eb5ed"
      },
      "outputs": [
        {
          "name": "stderr",
          "output_type": "stream",
          "text": [
            "[nltk_data] Downloading package stopwords to /root/nltk_data...\n",
            "[nltk_data]   Unzipping corpora/stopwords.zip.\n"
          ]
        },
        {
          "data": {
            "text/plain": [
              "True"
            ]
          },
          "execution_count": 6,
          "metadata": {},
          "output_type": "execute_result"
        }
      ],
      "source": [
        "nltk.download('stopwords')"
      ],
      "id": "206acfa5-2dc0-4a77-bd8f-70ebe0fbac82"
    },
    {
      "cell_type": "markdown",
      "source": [
        "aqui es donde se hace facilitar el analisis de datos debido a que esta linea elimina las palabras que son como por ejemplo el, la y etc..."
      ],
      "metadata": {
        "id": "lH7_1C9LAAeK"
      },
      "id": "lH7_1C9LAAeK"
    },
    {
      "cell_type": "code",
      "execution_count": null,
      "metadata": {
        "id": "f12f3c38-1d69-411f-9683-230e138af51b"
      },
      "outputs": [],
      "source": [
        "punctuation=[]\n",
        "for s in string.punctuation:\n",
        "    punctuation.append(str(s))\n",
        "sp_punctuation = [\"¿\", \"¡\", \"“\", \"”\", \"…\", \":\", \"–\", \"»\", \"«\"]    \n",
        "\n",
        "punctuation += sp_punctuation"
      ],
      "id": "f12f3c38-1d69-411f-9683-230e138af51b"
    },
    {
      "cell_type": "markdown",
      "source": [
        "aqui el código crea una lista de signos de puntuación, incluyendo signos específicos del español, que se utilizarán para procesar el texto y eliminar signos de puntuación. "
      ],
      "metadata": {
        "id": "-OP2FcZQAmXe"
      },
      "id": "-OP2FcZQAmXe"
    },
    {
      "cell_type": "code",
      "execution_count": null,
      "metadata": {
        "id": "9fdb2cc0-06de-4902-84d3-7b4d8f0d0a3d"
      },
      "outputs": [],
      "source": [
        "titulos = str\n",
        "for titulo in data[\"Title\"]:\n",
        "    titulos = titulo + \" \" + str(titulos)\n",
        "titulos"
      ],
      "id": "9fdb2cc0-06de-4902-84d3-7b4d8f0d0a3d"
    },
    {
      "cell_type": "markdown",
      "source": [
        "en esta parte es donde se concatena todos los títulos en una sola cadena de texto larga y cada título estará separado por un espacio en blanco."
      ],
      "metadata": {
        "id": "656QvOgQA2pS"
      },
      "id": "656QvOgQA2pS"
    },
    {
      "cell_type": "code",
      "execution_count": null,
      "metadata": {
        "id": "a078deb9-d5c0-4698-bc80-15625dda7d5d"
      },
      "outputs": [],
      "source": [
        "stop_words = stopwords.words('english')"
      ],
      "id": "a078deb9-d5c0-4698-bc80-15625dda7d5d"
    },
    {
      "cell_type": "markdown",
      "source": [
        "hace lo mismo que una linea anterior pero con el lenguaje de el ingles."
      ],
      "metadata": {
        "id": "JHHBdaU1BNXi"
      },
      "id": "JHHBdaU1BNXi"
    },
    {
      "cell_type": "code",
      "execution_count": null,
      "metadata": {
        "id": "d53c9659-9e4e-49ea-9887-49b4f4055ea1"
      },
      "outputs": [],
      "source": [
        "for p in punctuation:\n",
        "    clean_texto = titulos.lower().replace(p,\"\")\n",
        "    \n",
        "for p in punctuation:\n",
        "    clean_texto = clean_texto.replace(p,\"\")\n"
      ],
      "id": "d53c9659-9e4e-49ea-9887-49b4f4055ea1"
    },
    {
      "cell_type": "markdown",
      "source": [
        "aqui es donde se elimina los signos de puntuación de los titulos y los convierte a minúsculas."
      ],
      "metadata": {
        "id": "QUcLBQ9YBoJW"
      },
      "id": "QUcLBQ9YBoJW"
    },
    {
      "cell_type": "code",
      "execution_count": null,
      "metadata": {
        "id": "8f3bab8f-8a6e-4e61-81ec-81797eb36b37"
      },
      "outputs": [],
      "source": [
        "for stop in stop_words:\n",
        "    clean_texto_list = clean_texto.split()\n",
        "    clean_texto_list = [i.strip() for i in clean_texto_list]\n",
        "    try:\n",
        "        while stop in clean_texto_list: clean_texto_list.remove(stop)\n",
        "    except:\n",
        "        print(\"Error\")\n",
        "        pass\n",
        "    clean_texto= \" \".join(clean_texto_list)"
      ],
      "id": "8f3bab8f-8a6e-4e61-81ec-81797eb36b37"
    },
    {
      "cell_type": "markdown",
      "source": [
        "aqui es donde se vuelve a limpiar el texto de las palabras vacias."
      ],
      "metadata": {
        "id": "cUDswJj4CAlg"
      },
      "id": "cUDswJj4CAlg"
    },
    {
      "cell_type": "code",
      "execution_count": null,
      "metadata": {
        "id": "98ad9743-fd59-4355-bb11-423a709e9f41"
      },
      "outputs": [],
      "source": [
        "lista_texto = clean_texto.split(\" \")\n",
        "\n",
        "palabras = []\n",
        "\n",
        "for palabra in lista_texto:\n",
        "    if (len(palabra)>=3 and len(palabra)<18):\n",
        "        palabras.append(palabra)"
      ],
      "id": "98ad9743-fd59-4355-bb11-423a709e9f41"
    },
    {
      "cell_type": "markdown",
      "source": [
        "en esta linea se crea una lista de palabras pequeñas que son relevantes en el cual se usaran para el análisis de texto."
      ],
      "metadata": {
        "id": "0zSMEs-wCiJn"
      },
      "id": "0zSMEs-wCiJn"
    },
    {
      "cell_type": "code",
      "execution_count": null,
      "metadata": {
        "id": "f2b744d6-430f-49e5-82cc-ef4f25c451ac"
      },
      "outputs": [],
      "source": [
        "word_count={}\n",
        "for palabra in palabras:\n",
        "    if palabra in word_count.keys():\n",
        "        word_count[palabra][0]+=1\n",
        "    else:\n",
        "        word_count[palabra]=[1]\n",
        " "
      ],
      "id": "f2b744d6-430f-49e5-82cc-ef4f25c451ac"
    },
    {
      "cell_type": "markdown",
      "source": [
        "aqui es donde se cuenta cada vez que una palabra se repite y esta dicha cuenta queda guardada en el dicionario word_count"
      ],
      "metadata": {
        "id": "LY0U4kP3DezL"
      },
      "id": "LY0U4kP3DezL"
    },
    {
      "cell_type": "code",
      "execution_count": null,
      "metadata": {
        "colab": {
          "base_uri": "https://localhost:8080/",
          "height": 363
        },
        "id": "ad2a49ca-0e32-493e-a1ef-002c9acba04d",
        "outputId": "fd265686-4858-4449-c48d-70635cd65564"
      },
      "outputs": [
        {
          "data": {
            "text/html": [
              "\n",
              "  <div id=\"df-c2f0d774-203b-45b0-82fb-8102070a27f7\">\n",
              "    <div class=\"colab-df-container\">\n",
              "      <div>\n",
              "<style scoped>\n",
              "    .dataframe tbody tr th:only-of-type {\n",
              "        vertical-align: middle;\n",
              "    }\n",
              "\n",
              "    .dataframe tbody tr th {\n",
              "        vertical-align: top;\n",
              "    }\n",
              "\n",
              "    .dataframe thead th {\n",
              "        text-align: right;\n",
              "    }\n",
              "</style>\n",
              "<table border=\"1\" class=\"dataframe\">\n",
              "  <thead>\n",
              "    <tr style=\"text-align: right;\">\n",
              "      <th></th>\n",
              "      <th>freq</th>\n",
              "    </tr>\n",
              "  </thead>\n",
              "  <tbody>\n",
              "    <tr>\n",
              "      <th>muscle</th>\n",
              "      <td>421</td>\n",
              "    </tr>\n",
              "    <tr>\n",
              "      <th>hypertrophy</th>\n",
              "      <td>226</td>\n",
              "    </tr>\n",
              "    <tr>\n",
              "      <th>cardiac</th>\n",
              "      <td>208</td>\n",
              "    </tr>\n",
              "    <tr>\n",
              "      <th>skeletal</th>\n",
              "      <td>141</td>\n",
              "    </tr>\n",
              "    <tr>\n",
              "      <th>heart</th>\n",
              "      <td>123</td>\n",
              "    </tr>\n",
              "    <tr>\n",
              "      <th>force</th>\n",
              "      <td>116</td>\n",
              "    </tr>\n",
              "    <tr>\n",
              "      <th>function</th>\n",
              "      <td>111</td>\n",
              "    </tr>\n",
              "    <tr>\n",
              "      <th>rat</th>\n",
              "      <td>109</td>\n",
              "    </tr>\n",
              "    <tr>\n",
              "      <th>effects</th>\n",
              "      <td>104</td>\n",
              "    </tr>\n",
              "    <tr>\n",
              "      <th>training</th>\n",
              "      <td>98</td>\n",
              "    </tr>\n",
              "  </tbody>\n",
              "</table>\n",
              "</div>\n",
              "      <button class=\"colab-df-convert\" onclick=\"convertToInteractive('df-c2f0d774-203b-45b0-82fb-8102070a27f7')\"\n",
              "              title=\"Convert this dataframe to an interactive table.\"\n",
              "              style=\"display:none;\">\n",
              "        \n",
              "  <svg xmlns=\"http://www.w3.org/2000/svg\" height=\"24px\"viewBox=\"0 0 24 24\"\n",
              "       width=\"24px\">\n",
              "    <path d=\"M0 0h24v24H0V0z\" fill=\"none\"/>\n",
              "    <path d=\"M18.56 5.44l.94 2.06.94-2.06 2.06-.94-2.06-.94-.94-2.06-.94 2.06-2.06.94zm-11 1L8.5 8.5l.94-2.06 2.06-.94-2.06-.94L8.5 2.5l-.94 2.06-2.06.94zm10 10l.94 2.06.94-2.06 2.06-.94-2.06-.94-.94-2.06-.94 2.06-2.06.94z\"/><path d=\"M17.41 7.96l-1.37-1.37c-.4-.4-.92-.59-1.43-.59-.52 0-1.04.2-1.43.59L10.3 9.45l-7.72 7.72c-.78.78-.78 2.05 0 2.83L4 21.41c.39.39.9.59 1.41.59.51 0 1.02-.2 1.41-.59l7.78-7.78 2.81-2.81c.8-.78.8-2.07 0-2.86zM5.41 20L4 18.59l7.72-7.72 1.47 1.35L5.41 20z\"/>\n",
              "  </svg>\n",
              "      </button>\n",
              "      \n",
              "  <style>\n",
              "    .colab-df-container {\n",
              "      display:flex;\n",
              "      flex-wrap:wrap;\n",
              "      gap: 12px;\n",
              "    }\n",
              "\n",
              "    .colab-df-convert {\n",
              "      background-color: #E8F0FE;\n",
              "      border: none;\n",
              "      border-radius: 50%;\n",
              "      cursor: pointer;\n",
              "      display: none;\n",
              "      fill: #1967D2;\n",
              "      height: 32px;\n",
              "      padding: 0 0 0 0;\n",
              "      width: 32px;\n",
              "    }\n",
              "\n",
              "    .colab-df-convert:hover {\n",
              "      background-color: #E2EBFA;\n",
              "      box-shadow: 0px 1px 2px rgba(60, 64, 67, 0.3), 0px 1px 3px 1px rgba(60, 64, 67, 0.15);\n",
              "      fill: #174EA6;\n",
              "    }\n",
              "\n",
              "    [theme=dark] .colab-df-convert {\n",
              "      background-color: #3B4455;\n",
              "      fill: #D2E3FC;\n",
              "    }\n",
              "\n",
              "    [theme=dark] .colab-df-convert:hover {\n",
              "      background-color: #434B5C;\n",
              "      box-shadow: 0px 1px 3px 1px rgba(0, 0, 0, 0.15);\n",
              "      filter: drop-shadow(0px 1px 2px rgba(0, 0, 0, 0.3));\n",
              "      fill: #FFFFFF;\n",
              "    }\n",
              "  </style>\n",
              "\n",
              "      <script>\n",
              "        const buttonEl =\n",
              "          document.querySelector('#df-c2f0d774-203b-45b0-82fb-8102070a27f7 button.colab-df-convert');\n",
              "        buttonEl.style.display =\n",
              "          google.colab.kernel.accessAllowed ? 'block' : 'none';\n",
              "\n",
              "        async function convertToInteractive(key) {\n",
              "          const element = document.querySelector('#df-c2f0d774-203b-45b0-82fb-8102070a27f7');\n",
              "          const dataTable =\n",
              "            await google.colab.kernel.invokeFunction('convertToInteractive',\n",
              "                                                     [key], {});\n",
              "          if (!dataTable) return;\n",
              "\n",
              "          const docLinkHtml = 'Like what you see? Visit the ' +\n",
              "            '<a target=\"_blank\" href=https://colab.research.google.com/notebooks/data_table.ipynb>data table notebook</a>'\n",
              "            + ' to learn more about interactive tables.';\n",
              "          element.innerHTML = '';\n",
              "          dataTable['output_type'] = 'display_data';\n",
              "          await google.colab.output.renderOutput(dataTable, element);\n",
              "          const docLink = document.createElement('div');\n",
              "          docLink.innerHTML = docLinkHtml;\n",
              "          element.appendChild(docLink);\n",
              "        }\n",
              "      </script>\n",
              "    </div>\n",
              "  </div>\n",
              "  "
            ],
            "text/plain": [
              "             freq\n",
              "muscle        421\n",
              "hypertrophy   226\n",
              "cardiac       208\n",
              "skeletal      141\n",
              "heart         123\n",
              "force         116\n",
              "function      111\n",
              "rat           109\n",
              "effects       104\n",
              "training       98"
            ]
          },
          "execution_count": 14,
          "metadata": {},
          "output_type": "execute_result"
        }
      ],
      "source": [
        "df = pd.DataFrame.from_dict(word_count).transpose()\n",
        "df.columns=[\"freq\"]\n",
        "df.sort_values([\"freq\"], ascending=False, inplace=True)\n",
        "df.head(10)"
      ],
      "id": "ad2a49ca-0e32-493e-a1ef-002c9acba04d"
    },
    {
      "cell_type": "markdown",
      "source": [
        "en esta parte es donde se muestran las 10 palabras con mas frecuencia."
      ],
      "metadata": {
        "id": "Zjpz2z-sEmfX"
      },
      "id": "Zjpz2z-sEmfX"
    },
    {
      "cell_type": "code",
      "execution_count": null,
      "metadata": {
        "id": "0e964059-bd8c-40c8-be88-2e084c26252b"
      },
      "outputs": [],
      "source": [
        "def plot_bar(data=df, top=5):    \n",
        "    fig = plt.figure()\n",
        "    ax = fig.add_axes([0,0,2,1])\n",
        "    ax.bar(x =df.iloc[:top,:].index, height = df.iloc[:top,0].values)\n",
        "    plt.show()"
      ],
      "id": "0e964059-bd8c-40c8-be88-2e084c26252b"
    },
    {
      "cell_type": "markdown",
      "source": [
        "aqui es donde se crea el grafico de barras de las palabras."
      ],
      "metadata": {
        "id": "zy0vQ3GIFeRB"
      },
      "id": "zy0vQ3GIFeRB"
    },
    {
      "cell_type": "code",
      "execution_count": null,
      "metadata": {
        "id": "aed7a00f-eb90-461d-bb0d-153943ff1718"
      },
      "outputs": [],
      "source": [
        "plot_bar(data=df, top=15)"
      ],
      "id": "aed7a00f-eb90-461d-bb0d-153943ff1718"
    },
    {
      "cell_type": "markdown",
      "source": [
        "aqui hace el grafico con 15 palabras mas frecuentes."
      ],
      "metadata": {
        "id": "kim2BHf3Fwp8"
      },
      "id": "kim2BHf3Fwp8"
    },
    {
      "cell_type": "code",
      "execution_count": null,
      "metadata": {
        "id": "19a9a93e-1d9d-4bd0-bff9-c19773c365c7"
      },
      "outputs": [],
      "source": [],
      "id": "19a9a93e-1d9d-4bd0-bff9-c19773c365c7"
    },
    {
      "cell_type": "code",
      "execution_count": null,
      "metadata": {
        "colab": {
          "background_save": true
        },
        "id": "76fa2157-7ceb-406e-a345-dd2f07f5fec1"
      },
      "outputs": [],
      "source": [
        "word_cloud = WordCloud(height=800, width=800, background_color='white',max_words=150, min_font_size=5, collocation_threshold=10).generate(clean_texto)\n",
        "\n",
        "word_cloud.to_file(\"n1.png\") #Guardamos la imagen generada\n",
        "\n",
        "plt.figure(figsize=(10,8))\n",
        "plt.imshow(word_cloud)\n",
        "plt.axis('off')\n",
        "plt.tight_layout(pad=0)\n",
        "plt.show()"
      ],
      "id": "76fa2157-7ceb-406e-a345-dd2f07f5fec1"
    },
    {
      "cell_type": "markdown",
      "source": [
        "aqui se muestra la imagen del analisis de las palabras"
      ],
      "metadata": {
        "id": "yIBfunPZGf7f"
      },
      "id": "yIBfunPZGf7f"
    },
    {
      "cell_type": "code",
      "execution_count": null,
      "metadata": {
        "id": "fe4004c4-8c2f-479e-bae0-7167157ba458"
      },
      "outputs": [],
      "source": [
        "data.head()"
      ],
      "id": "fe4004c4-8c2f-479e-bae0-7167157ba458"
    },
    {
      "cell_type": "markdown",
      "source": [
        "esta linea se usa para mostrar las primeras filas del documento que uno cargo."
      ],
      "metadata": {
        "id": "ho1wY7HtGnF4"
      },
      "id": "ho1wY7HtGnF4"
    },
    {
      "cell_type": "code",
      "execution_count": null,
      "metadata": {
        "id": "5d894c43-48c2-4284-a23e-23415aa9e5c3"
      },
      "outputs": [],
      "source": [],
      "id": "5d894c43-48c2-4284-a23e-23415aa9e5c3"
    }
  ],
  "metadata": {
    "colab": {
      "provenance": [],
      "include_colab_link": true
    },
    "kernelspec": {
      "display_name": "Python 3 (ipykernel)",
      "language": "python",
      "name": "python3"
    },
    "language_info": {
      "codemirror_mode": {
        "name": "ipython",
        "version": 3
      },
      "file_extension": ".py",
      "mimetype": "text/x-python",
      "name": "python",
      "nbconvert_exporter": "python",
      "pygments_lexer": "ipython3",
      "version": "3.8.6"
    }
  },
  "nbformat": 4,
  "nbformat_minor": 5
}